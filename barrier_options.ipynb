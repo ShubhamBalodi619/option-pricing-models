{
 "cells": [
  {
   "cell_type": "code",
   "execution_count": 65,
   "id": "e6ee5b23-ba5c-469e-a6cc-fcc7056d5960",
   "metadata": {},
   "outputs": [],
   "source": [
    "# Importing libraries\n",
    "\n",
    "import numpy as np"
   ]
  },
  {
   "cell_type": "code",
   "execution_count": 91,
   "id": "f8f84b97-2173-40ca-b261-17247502c401",
   "metadata": {},
   "outputs": [],
   "source": [
    "# Defining the input variables\n",
    "\n",
    "So= 526.41            # Current stock price\n",
    "K= 500                # Strike price\n",
    "T= 0.169863014        # Time to maturity in years\n",
    "H= 550                #Barrier price\n",
    "Rf= 0.02              # Risk-free rate of return\n",
    "vol= 0.1742           # Annualized volatility\n",
    "N= 4                  # No. of time steps\n",
    "opttype= \"c\"          # Option type"
   ]
  },
  {
   "cell_type": "code",
   "execution_count": 101,
   "id": "7210f309-1d51-4759-a95d-a0e903d49119",
   "metadata": {},
   "outputs": [],
   "source": [
    "def binomial_tree_barrier(So, K, T, H, Rf, vol, N, opttype=\"c\"):\n",
    "    \"\"\"\n",
    "    European-style up-and-out barrier option using binomial tree.\n",
    "    \"\"\"\n",
    "    dt= T/N       # Length of a time step\n",
    "\n",
    "    u= np.exp(vol*np.sqrt(dt))        # Up-move factor\n",
    "    d=1/u                            # Down-move factor\n",
    "\n",
    "    p= (np.exp(Rf * dt)-d)/(u-d)     # Probability of an up-move \n",
    "\n",
    "    disc_factor= np.exp(-Rf * dt)    # Discount factor\n",
    "\n",
    "    # Initialising the asset prices at maturity (t= N)\n",
    "    S= np.zeros(N+1)\n",
    "    for j in range(0,N+1):\n",
    "        S[j]= So * (u ** j) * (d**(N-j))\n",
    "\n",
    "    # Initialising the option values at maturity (t= N)\n",
    "    O= np.zeros(N+1)\n",
    "    for j in range(N+1):\n",
    "        if opttype==\"c\":\n",
    "            O[j]= np.maximum(S[j]-K,0)\n",
    "        elif opttype==\"p\":\n",
    "            O[j]= np.maximum(K-S[j],0)\n",
    "        else:\n",
    "            print(\"Please confirm all the parameters!!!!!!!!!!!!!!\")\n",
    "            return None\n",
    "\n",
    "    # Checking terminal condition payoff\n",
    "    for i in range(N+1):\n",
    "        if S[i]>H:\n",
    "            O[i]=0\n",
    "\n",
    "    # Backward induction\n",
    "    for i in range(N-1, -1, -1):\n",
    "        for j in range(0,i+1):\n",
    "            St= So * (u ** j) * (d**(i-j))\n",
    "            if St>=H:\n",
    "                O[j]=0\n",
    "            else:\n",
    "                O[j]= disc_factor * (O[j+1] * p + O[j] * (1-p))\n",
    "\n",
    "    return O[0]"
   ]
  },
  {
   "cell_type": "code",
   "execution_count": 103,
   "id": "5ecbee58-f0e6-44fc-84a3-9f5351575912",
   "metadata": {},
   "outputs": [
    {
     "data": {
      "text/plain": [
       "8.22"
      ]
     },
     "execution_count": 103,
     "metadata": {},
     "output_type": "execute_result"
    }
   ],
   "source": [
    "binomial_tree_barrier(So, K, T, H, Rf, vol, N, opttype=\"c\").round(2)"
   ]
  },
  {
   "cell_type": "code",
   "execution_count": null,
   "id": "2bdc7dc9-2caa-46a7-b953-3bc47e0daa20",
   "metadata": {},
   "outputs": [],
   "source": []
  },
  {
   "cell_type": "code",
   "execution_count": null,
   "id": "80020132-0b60-4c99-ab50-d0e5dfc7cc31",
   "metadata": {},
   "outputs": [],
   "source": []
  },
  {
   "cell_type": "code",
   "execution_count": null,
   "id": "41efb26b-dec7-4880-b583-ed06dbb662b4",
   "metadata": {},
   "outputs": [],
   "source": []
  }
 ],
 "metadata": {
  "kernelspec": {
   "display_name": "Python [conda env:base] *",
   "language": "python",
   "name": "conda-base-py"
  },
  "language_info": {
   "codemirror_mode": {
    "name": "ipython",
    "version": 3
   },
   "file_extension": ".py",
   "mimetype": "text/x-python",
   "name": "python",
   "nbconvert_exporter": "python",
   "pygments_lexer": "ipython3",
   "version": "3.12.7"
  }
 },
 "nbformat": 4,
 "nbformat_minor": 5
}
