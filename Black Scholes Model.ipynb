{
 "cells": [
  {
   "cell_type": "code",
   "execution_count": 3,
   "id": "71a61899-d071-4007-a142-bcd15cb01c71",
   "metadata": {},
   "outputs": [],
   "source": [
    "# Importing libraries\n",
    "\n",
    "import numpy as np\n",
    "from scipy.stats import norm"
   ]
  },
  {
   "cell_type": "code",
   "execution_count": 4,
   "id": "b2191aec-f625-46e8-898f-4a484f778b40",
   "metadata": {},
   "outputs": [],
   "source": [
    "# Defining the input variables\n",
    "\n",
    "St= 526.41            # Current stock price\n",
    "K= 500                # Strike price\n",
    "T= 0.169863014        # Time to maturity in years\n",
    "Rf= 0.02              # Risk-free rate of return\n",
    "vol= 0.1742           # Annualized volatility\n",
    "opttype= \"c\"          # Option type"
   ]
  },
  {
   "cell_type": "code",
   "execution_count": 5,
   "id": "afd7c0f9-136d-44ff-abd6-e8c620bd086e",
   "metadata": {},
   "outputs": [],
   "source": [
    "# Defining the function to calculate the option price\n",
    "\n",
    "def black_scholes(St, K, T, Rf, vol, opttype=\"c\"):\n",
    "    d1= (np.log(St/K) + (Rf + 0.5 * vol**2) * T)/(vol * np.sqrt(T))\n",
    "    d2= d1 - vol * np.sqrt(T)\n",
    "\n",
    "    try:\n",
    "        if opttype==\"c\":\n",
    "            price= St * norm.cdf(d1) - K * np.exp(-Rf * T) * norm.cdf(d2)\n",
    "        elif opttype==\"p\":\n",
    "            price= -St * norm.cdf(-d1) + K * np.exp(-Rf * T) * norm.cdf(-d2)\n",
    "        return price\n",
    "    except:\n",
    "        print(\"Please confirm all the parameters!!!!!!!!!!!!!!\")"
   ]
  },
  {
   "cell_type": "code",
   "execution_count": 6,
   "id": "5484fc9a-8473-4958-90f8-0ae3589c495c",
   "metadata": {},
   "outputs": [
    {
     "name": "stdout",
     "output_type": "stream",
     "text": [
      "The call option price is $32.81.\n",
      "The put option price is $4.7.\n"
     ]
    }
   ],
   "source": [
    "print(f\"The call option price is ${black_scholes(St, K, T, Rf, vol, opttype=\"c\").round(2)}.\")\n",
    "print(f\"The put option price is ${black_scholes(St, K, T, Rf, vol, opttype=\"p\").round(2)}.\")"
   ]
  },
  {
   "cell_type": "code",
   "execution_count": null,
   "id": "0a0181d8-1f0b-4475-9e05-04e6b14452ee",
   "metadata": {},
   "outputs": [],
   "source": []
  }
 ],
 "metadata": {
  "kernelspec": {
   "display_name": "Python [conda env:base] *",
   "language": "python",
   "name": "conda-base-py"
  },
  "language_info": {
   "codemirror_mode": {
    "name": "ipython",
    "version": 3
   },
   "file_extension": ".py",
   "mimetype": "text/x-python",
   "name": "python",
   "nbconvert_exporter": "python",
   "pygments_lexer": "ipython3",
   "version": "3.12.7"
  }
 },
 "nbformat": 4,
 "nbformat_minor": 5
}
