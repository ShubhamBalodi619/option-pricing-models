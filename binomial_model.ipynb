{
 "cells": [
  {
   "cell_type": "code",
   "execution_count": 1,
   "id": "f4209961-034b-4434-b90d-051df0832d90",
   "metadata": {},
   "outputs": [],
   "source": [
    "# Importing libraries\n",
    "\n",
    "import numpy as np"
   ]
  },
  {
   "cell_type": "code",
   "execution_count": 2,
   "id": "c04870f6-4aa9-429c-9e87-860b79011b9c",
   "metadata": {},
   "outputs": [],
   "source": [
    "# Defining the input variables\n",
    "\n",
    "So= 526.41            # Current stock price\n",
    "K= 500                # Strike price\n",
    "T= 0.169863014        # Time to maturity in years\n",
    "Rf= 0.02              # Risk-free rate of return\n",
    "vol= 0.1742           # Annualized volatility\n",
    "N= 4                  # No. of time steps\n",
    "opt_style= \"e\"        # Option style- American or European\n",
    "opt_type= \"p\"         # Option type- call or put"
   ]
  },
  {
   "cell_type": "code",
   "execution_count": 3,
   "id": "3d66668f-81a7-4659-9a1b-00d9f68c3379",
   "metadata": {},
   "outputs": [],
   "source": [
    "# Defining the model\n",
    "def binomial_tree(So, K, T, Rf, vol, N, opt_style= \"e\", opt_type=\"p\"):\n",
    "    dt= T/N                           # Length of a time step\n",
    "\n",
    "    u= np.exp(vol*np.sqrt(dt))        # Up-move factor\n",
    "    d=1/u                            # Down-move factor\n",
    "\n",
    "    p= (np.exp(Rf * dt)-d)/(u-d)     # Probability of an up-move \n",
    "\n",
    "    disc_factor= np.exp(-Rf * dt)    # Discount factor\n",
    "\n",
    "    # Initialising the asset prices at maturity (t= N)\n",
    "    S= np.zeros(N+1)\n",
    "    for j in range(0,N+1):\n",
    "        S[j]= So * (u ** j) * (d**(N-j))\n",
    "\n",
    "    # Initialising the option values at maturity (t= N)\n",
    "    O= np.zeros(N+1)\n",
    "    for j in range(N+1):\n",
    "        if opt_type==\"c\":\n",
    "            O[j]= np.maximum(S[j]-K,0)\n",
    "        elif opt_type==\"p\":\n",
    "            O[j]= np.maximum(K-S[j],0)\n",
    "        else:\n",
    "            print(\"Please confirm all the parameters!!!!!!!!!!!!!!\")\n",
    "            return None\n",
    "\n",
    "    # Backward induction\n",
    "    if opt_style== \"e\":\n",
    "        for i in range(N-1, -1, -1):\n",
    "            for j in range(0,i+1):\n",
    "                O[j]= disc_factor * (O[j+1] * p + O[j] * (1-p))\n",
    "    \n",
    "    elif opt_style== \"a\":\n",
    "        for i in range(N-1, -1, -1):\n",
    "            for j in range(0,i+1):\n",
    "                St= So * (u**j) * (d**(i-j))\n",
    "                O[j]= disc_factor * (O[j+1] * p + O[j] * (1-p))\n",
    "                if opt_type==\"c\":\n",
    "                    O[j]= np.maximum(St-K, O[j])\n",
    "                else:\n",
    "                    O[j]= np.maximum(K-St, O[j])\n",
    "    else:\n",
    "        print(\"Please confirm all the parameters!!!!!!!!!!!!!!\")\n",
    "        return None\n",
    "            \n",
    "    return O[0]"
   ]
  },
  {
   "cell_type": "code",
   "execution_count": 4,
   "id": "8e48735a-890f-4d32-a2a5-089668369376",
   "metadata": {},
   "outputs": [
    {
     "name": "stdout",
     "output_type": "stream",
     "text": [
      "The price of the option is: $5.16\n"
     ]
    }
   ],
   "source": [
    "print(f\"The price of the option is: ${binomial_tree(So, K, T, Rf, vol, N, opt_style=\"e\", opt_type=\"p\").round(2)}\")"
   ]
  },
  {
   "cell_type": "code",
   "execution_count": null,
   "id": "38ecaf8b-bac8-47fe-901e-058bb5c21016",
   "metadata": {},
   "outputs": [],
   "source": []
  },
  {
   "cell_type": "code",
   "execution_count": null,
   "id": "24c7a715-d159-4975-ac6b-fbaa8c6780c1",
   "metadata": {},
   "outputs": [],
   "source": []
  },
  {
   "cell_type": "code",
   "execution_count": null,
   "id": "45a334ff-9cab-495c-b223-3f1dd9fbd669",
   "metadata": {},
   "outputs": [],
   "source": []
  }
 ],
 "metadata": {
  "kernelspec": {
   "display_name": "Python [conda env:base] *",
   "language": "python",
   "name": "conda-base-py"
  },
  "language_info": {
   "codemirror_mode": {
    "name": "ipython",
    "version": 3
   },
   "file_extension": ".py",
   "mimetype": "text/x-python",
   "name": "python",
   "nbconvert_exporter": "python",
   "pygments_lexer": "ipython3",
   "version": "3.12.7"
  }
 },
 "nbformat": 4,
 "nbformat_minor": 5
}
